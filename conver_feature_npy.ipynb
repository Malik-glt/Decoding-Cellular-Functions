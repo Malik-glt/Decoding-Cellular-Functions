{
 "cells": [
  {
   "cell_type": "code",
   "execution_count": 1,
   "id": "997ff019-4d0b-4b45-ae92-6c53b0feeb4b",
   "metadata": {
    "tags": []
   },
   "outputs": [],
   "source": [
    "import os\n",
    "import glob\n",
    "import numpy as np\n",
    "\n",
    "from tqdm import tqdm"
   ]
  },
  {
   "cell_type": "markdown",
   "id": "7a3fea00-a3a8-4b83-8cf9-9a1ec881bef6",
   "metadata": {},
   "source": [
    "# length_change"
   ]
  },
  {
   "cell_type": "code",
   "execution_count": 2,
   "id": "c589a428-abbf-47e1-84c7-ffcc38caca31",
   "metadata": {
    "tags": []
   },
   "outputs": [],
   "source": [
    "def get_feature(input_dir, output_dir,  lenght, dim, pca_model=\"None\"):\n",
    "    # mkdir\n",
    "    if not os.path.exists(output_dir):\n",
    "        os.makedirs(output_dir)\n",
    "        \n",
    "    for i in tqdm(input_dir, desc=\"Processing\", unit=\"file\"):\n",
    "        name = os.path.basename(i).split(\".\")[0]\n",
    "        save_path = os.path.join(output_dir, name)\n",
    "\n",
    "        if dim == 768:\n",
    "            data = np.load(i).reshape(1, -1, dim)\n",
    "        else:\n",
    "            data = np.loadtxt(i).reshape(1, -1, dim)\n",
    "\n",
    "            \n",
    "        if data.shape[1] < lenght:\n",
    "            lenght_pad = lenght - data.shape[1]\n",
    "            data_pad = np.pad(data, [(0,0), (0,lenght_pad), (0,0)], mode='constant', constant_values=0)\n",
    "            np.save(save_path, data_pad)\n",
    "            \n",
    "        elif data.shape[1] > lenght:\n",
    "            data_resize = data[:, :lenght, :]\n",
    "            np.save(save_path, data_resize)\n",
    "    \n",
    "        else:\n",
    "            np.save(save_path, data)\n",
    "            "
   ]
  },
  {
   "cell_type": "code",
   "execution_count": 3,
   "id": "c51be126-ce4a-4379-8bc3-d9d475260bee",
   "metadata": {
    "tags": []
   },
   "outputs": [
    {
     "name": "stdout",
     "output_type": "stream",
     "text": [
      "40\n",
      "10\n",
      "318\n",
      "80\n"
     ]
    },
    {
     "name": "stderr",
     "output_type": "stream",
     "text": [
      "Processing: 100%|████████████████████████████████████████████████████████████████████| 40/40 [00:12<00:00,  3.23file/s]\n",
      "Processing: 100%|████████████████████████████████████████████████████████████████████| 10/10 [00:02<00:00,  3.35file/s]\n",
      "Processing: 100%|██████████████████████████████████████████████████████████████████| 318/318 [02:10<00:00,  2.44file/s]\n",
      "Processing: 100%|████████████████████████████████████████████████████████████████████| 80/80 [00:30<00:00,  2.58file/s]\n"
     ]
    }
   ],
   "source": [
    "# 1024 or 768 or 1280\n",
    "dim = 1280\n",
    "\n",
    "lenght = 1200\n",
    "\n",
    "# \"pt\" or \"tape\" or \"esm2\"\n",
    "FEATURE = \"esm1b\"\n",
    "\n",
    "\n",
    "\"---------------------------- input dir ----------------------------\"\n",
    "# ProtTrans\n",
    "if FEATURE == \"pt\":\n",
    "    Amino_train = glob.glob(\"D:/Malik/SATs/Amino acid vs others/Prottrans/Amino acid/Train/*\")\n",
    "    Amino_test = glob.glob(\"D:/Malik/SATs/Amino acid vs others/Prottrans/Amino acid/Test/*\")\n",
    "    other_train = glob.glob(\"D:/Malik/SATs/Amino acid vs others/Prottrans/Other SATs/Train/*\")\n",
    "    other_test = glob.glob(\"D:/Malik/SATs/Amino acid vs others/Prottrans/Other SATs/Test/*\")\n",
    "\n",
    "\n",
    "# esm\n",
    "elif FEATURE == \"esm2\" or FEATURE == \"esm1b\":\n",
    "    Amino_train = glob.glob(\"D:/Malik/SATs/Amino acid vs others/esm_1b/Amino acid/Train/*\")\n",
    "    Amino_test = glob.glob(\"D:/Malik/SATs/Amino acid vs others/esm_1b/Amino acid/Test/*\")\n",
    "    other_train = glob.glob(\"D:/Malik/SATs/Amino acid vs others/esm_1b/Other_Sats/Train/*\")\n",
    "    other_test = glob.glob(\"D:/Malik/SATs/Amino acid vs others/esm_1b/Other_Sats/Test/*\")\n",
    "\n",
    "print(len(Amino_train))\n",
    "print(len(Amino_test))\n",
    "print(len(other_train))\n",
    "print(len(other_test))\n",
    "\n",
    "\n",
    "\"---------------------------- output dir ----------------------------\"\n",
    "Amino_train_out = f\"get_feature/{FEATURE}_d{dim}_L{lenght}/Amino_acid/train/\"\n",
    "Amino_test_out = f\"get_feature/{FEATURE}_d{dim}_L{lenght}/Amino_acid/test/\"\n",
    "other_train_out = f\"get_feature/{FEATURE}_d{dim}_L{lenght}/Other_Sats/train/\"\n",
    "other_test_out = f\"get_feature/{FEATURE}_d{dim}_L{lenght}/Other_Sats/test/\"\n",
    "\n",
    "\"---------------------------- funtion ----------------------------\"\n",
    "get_feature(Amino_train, Amino_train_out, lenght, dim)\n",
    "get_feature(Amino_test, Amino_test_out, lenght, dim)\n",
    "\n",
    "get_feature(other_train, other_train_out, lenght, dim)\n",
    "get_feature(other_test, other_test_out, lenght, dim)\n",
    "\n"
   ]
  },
  {
   "cell_type": "markdown",
   "id": "7a0a9580-b431-468b-9da1-59676b9ce092",
   "metadata": {
    "tags": []
   },
   "source": [
    "# check"
   ]
  },
  {
   "cell_type": "code",
   "execution_count": 4,
   "id": "c493b2ea-f560-443e-b37a-84e2fd7701e3",
   "metadata": {
    "tags": []
   },
   "outputs": [
    {
     "data": {
      "text/plain": [
       "(1, 1200, 1280)"
      ]
     },
     "execution_count": 4,
     "metadata": {},
     "output_type": "execute_result"
    }
   ],
   "source": [
    "a = np.load(\"D:/Malik/SATs/Amino acid vs others/get_feature/esm1b_d1280_L1200/Amino_acid/train/A6NIM6.npy\")\n",
    "a.shape"
   ]
  },
  {
   "cell_type": "markdown",
   "id": "c6862308-f88b-47ad-82b0-6a9260ae2647",
   "metadata": {},
   "source": [
    "## PSSM Features"
   ]
  },
  {
   "cell_type": "code",
   "execution_count": 10,
   "id": "7992468b-f0be-4b1d-857b-10cf2924f8fd",
   "metadata": {},
   "outputs": [
    {
     "name": "stdout",
     "output_type": "stream",
     "text": [
      "40\n",
      "10\n",
      "318\n",
      "80\n"
     ]
    },
    {
     "name": "stderr",
     "output_type": "stream",
     "text": [
      "Processing: 100%|███████████████████████████████████████████████████████████████████| 40/40 [00:00<00:00, 640.45file/s]\n",
      "Processing: 100%|███████████████████████████████████████████████████████████████████| 10/10 [00:00<00:00, 639.97file/s]\n",
      "Processing: 100%|█████████████████████████████████████████████████████████████████| 318/318 [00:01<00:00, 223.64file/s]\n",
      "Processing: 100%|███████████████████████████████████████████████████████████████████| 80/80 [00:00<00:00, 465.48file/s]\n"
     ]
    }
   ],
   "source": [
    "# 1024 or 768 or 1280\n",
    "dim = 20\n",
    "\n",
    "lenght = 1200\n",
    "\n",
    "# \"pt\" or \"tape\" or \"esm2\"\n",
    "FEATURE = \"binary\"\n",
    "\n",
    "\n",
    "\"---------------------------- input dir ----------------------------\"\n",
    "# ProtTrans\n",
    "if FEATURE == \"pt\":\n",
    "    Amino_train = glob.glob(\"D:/Malik/SATs/Amino acid vs others/Prottrans/Amino acid/Train/*\")\n",
    "    Amino_test = glob.glob(\"D:/Malik/SATs/Amino acid vs others/Prottrans/Amino acid/Test/*\")\n",
    "    other_train = glob.glob(\"D:/Malik/SATs/Amino acid vs others/Prottrans/Other SATs/Train/*\")\n",
    "    other_test = glob.glob(\"D:/Malik/SATs/Amino acid vs others/Prottrans/Other SATs/Test/*\")\n",
    "\n",
    "\n",
    "# esm\n",
    "elif FEATURE == \"esm2\" or FEATURE == \"esm1b\":\n",
    "    Amino_train = glob.glob(\"D:/Malik/SATs/Amino acid vs others/esm_1b/Amino acid/Train/*\")\n",
    "    Amino_test = glob.glob(\"D:/Malik/SATs/Amino acid vs others/esm_1b/Amino acid/Test/*\")\n",
    "    other_train = glob.glob(\"D:/Malik/SATs/Amino acid vs others/esm_1b/Other_Sats/Train/*\")\n",
    "    other_test = glob.glob(\"D:/Malik/SATs/Amino acid vs others/esm_1b/Other_Sats/Test/*\")\n",
    "    \n",
    "# pssm ,binary\n",
    "elif FEATURE == \"pssm\" or FEATURE == \"binary\":\n",
    "    Amino_train = glob.glob(\"D:/Malik/SATs/Amino acid vs others/Binary/Amino acid/Train/*\")\n",
    "    Amino_test = glob.glob(\"D:/Malik/SATs/Amino acid vs others/Binary/Amino acid/Test/*\")\n",
    "    other_train = glob.glob(\"D:/Malik/SATs/Amino acid vs others/Binary/Others/Train/*\")\n",
    "    other_test = glob.glob(\"D:/Malik/SATs/Amino acid vs others/Binary/Others/Test/*\")\n",
    "\n",
    "print(len(Amino_train))\n",
    "print(len(Amino_test))\n",
    "print(len(other_train))\n",
    "print(len(other_test))\n",
    "\n",
    "\n",
    "\"---------------------------- output dir ----------------------------\"\n",
    "Amino_train_out = f\"get_feature/{FEATURE}_d{dim}_L{lenght}/Amino_acid/train/\"\n",
    "Amino_test_out = f\"get_feature/{FEATURE}_d{dim}_L{lenght}/Amino_acid/test/\"\n",
    "other_train_out = f\"get_feature/{FEATURE}_d{dim}_L{lenght}/Other_Sats/train/\"\n",
    "other_test_out = f\"get_feature/{FEATURE}_d{dim}_L{lenght}/Other_Sats/test/\"\n",
    "\n",
    "\"---------------------------- funtion ----------------------------\"\n",
    "get_feature(Amino_train, Amino_train_out, lenght, dim)\n",
    "get_feature(Amino_test, Amino_test_out, lenght, dim)\n",
    "\n",
    "get_feature(other_train, other_train_out, lenght, dim)\n",
    "get_feature(other_test, other_test_out, lenght, dim)\n",
    "\n"
   ]
  },
  {
   "cell_type": "code",
   "execution_count": 13,
   "id": "9f34f208-c432-4eb3-b9ba-6f2ae548efa6",
   "metadata": {},
   "outputs": [
    {
     "data": {
      "text/plain": [
       "(1, 1200, 20)"
      ]
     },
     "execution_count": 13,
     "metadata": {},
     "output_type": "execute_result"
    }
   ],
   "source": [
    "a = np.load(\"D:/Malik/SATs/Amino acid vs others/get_feature/binary_d20_L1200/Amino_acid/test/P36372.npy\")\n",
    "a.shape"
   ]
  },
  {
   "cell_type": "markdown",
   "id": "f7cb91c6-5568-4df2-9262-b50e7a30cd35",
   "metadata": {},
   "source": [
    "## For SLC data"
   ]
  },
  {
   "cell_type": "code",
   "execution_count": 14,
   "id": "4455e909-2cc2-4888-a9cf-18879a8219f9",
   "metadata": {},
   "outputs": [
    {
     "name": "stdout",
     "output_type": "stream",
     "text": [
      "23\n",
      "13\n"
     ]
    },
    {
     "name": "stderr",
     "output_type": "stream",
     "text": [
      "Processing: 100%|███████████████████████████████████████████████████████████████████| 23/23 [00:00<00:00, 736.82file/s]\n",
      "Processing: 100%|███████████████████████████████████████████████████████████████████| 13/13 [00:00<00:00, 416.00file/s]\n"
     ]
    }
   ],
   "source": [
    "# 1024 or 768 or 1280\n",
    "dim = 20\n",
    "\n",
    "lenght = 1200\n",
    "\n",
    "# \"pt\" or \"tape\" or \"esm2\"\n",
    "FEATURE = \"binary\"\n",
    "\n",
    "\n",
    "\"---------------------------- input dir ----------------------------\"\n",
    "# ProtTrans\n",
    "if FEATURE == \"pt\":\n",
    "    Amino = glob.glob(\"D:/Malik/SATs/Amino acid vs others/Prottrans/SLC/Amino acid/*\")\n",
    "    Sodium = glob.glob(\"D:/Malik/SATs/Amino acid vs others/Prottrans/SLC/Sodium/*\")\n",
    "    Sugar = glob.glob(\"D:/Malik/SATs/Amino acid vs others/Prottrans/SLC/Sugar/*\")\n",
    "\n",
    "# TAPE\n",
    "elif FEATURE == \"tape\":\n",
    "    Amino_train = glob.glob(\"PT_out/ionchannels/train/*\")\n",
    "    Amino_test = glob.glob(\"PT_out/ionchannels/test/*\")\n",
    "    other_train = glob.glob(\"PT_out/iontransporters/train/*\")\n",
    "    other_test = glob.glob(\"PT_out/iontransporters/test/*\")\n",
    "\n",
    "# esm\n",
    "elif FEATURE == \"esm2\" or FEATURE == \"esm1b\":\n",
    "    Amino = glob.glob(\"D:/Malik/SATs/Amino acid vs others/esm_1b/SLC-esm-1b/Amino acid/*\")\n",
    "    Sodium = glob.glob(\"D:/Malik/SATs/Amino acid vs others/esm_1b/SLC-esm-1b/Sodium/*\")\n",
    "    Sugar = glob.glob(\"D:/Malik/SATs/Amino acid vs others/esm_1b/SLC-esm-1b/Sugar/*\")\n",
    "    \n",
    "# esm\n",
    "elif FEATURE == \"pssm\" or FEATURE == \"binary\":\n",
    "    Amino = glob.glob(\"D:/Malik/SATs/Amino acid vs others/Binary/SLC/Amino_acid/*\")\n",
    "    other = glob.glob(\"D:/Malik/SATs/Amino acid vs others/Binary/SLC/Other/*\")\n",
    "    #Sugar = glob.glob(\"D:/Malik/SATs/Amino acid vs others/esm_1b/SLC-esm-1b/Sugar/*\")\n",
    "\n",
    "print(len(Amino))\n",
    "print(len(other))\n",
    "#print(len(Sugar))\n",
    "\n",
    "\n",
    "\"---------------------------- output dir ----------------------------\"\n",
    "Amino_out = f\"get_feature/{FEATURE}_d{dim}_L{lenght}/SLC/Amino acid/\"\n",
    "other_out = f\"get_feature/{FEATURE}_d{dim}_L{lenght}/SLC/other/\"\n",
    "#Sugar_out = f\"get_feature/{FEATURE}_d{dim}_L{lenght}/SLC/Sugar/\"\n",
    "\n",
    "\"---------------------------- funtion ----------------------------\"\n",
    "get_feature(Amino, Amino_out, lenght, dim)\n",
    "get_feature(other, other_out, lenght, dim)\n",
    "#get_feature(Sugar, Sugar_out, lenght, dim)"
   ]
  },
  {
   "cell_type": "code",
   "execution_count": null,
   "id": "4c5fecd6-8106-4b4c-938b-fc1e72f81fec",
   "metadata": {},
   "outputs": [],
   "source": []
  }
 ],
 "metadata": {
  "kernelspec": {
   "display_name": "Python 3 (ipykernel)",
   "language": "python",
   "name": "python3"
  },
  "language_info": {
   "codemirror_mode": {
    "name": "ipython",
    "version": 3
   },
   "file_extension": ".py",
   "mimetype": "text/x-python",
   "name": "python",
   "nbconvert_exporter": "python",
   "pygments_lexer": "ipython3",
   "version": "3.10.2"
  }
 },
 "nbformat": 4,
 "nbformat_minor": 5
}
