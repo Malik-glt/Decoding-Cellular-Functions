{
 "cells": [
  {
   "cell_type": "code",
   "execution_count": 1,
   "id": "5b6093cd-781c-4026-a582-ce2732d32078",
   "metadata": {},
   "outputs": [
    {
     "name": "stderr",
     "output_type": "stream",
     "text": [
      "C:\\Users\\USER\\AppData\\Local\\Programs\\Python\\Python310\\lib\\site-packages\\scipy\\__init__.py:146: UserWarning: A NumPy version >=1.17.3 and <1.25.0 is required for this version of SciPy (detected version 1.26.0\n",
      "  warnings.warn(f\"A NumPy version >={np_minversion} and <{np_maxversion}\"\n"
     ]
    }
   ],
   "source": [
    "import os\n",
    "import glob\n",
    "import numpy as np\n",
    "import time\n",
    "from tqdm import tqdm\n",
    "import tensorflow as tf\n",
    "import gc"
   ]
  },
  {
   "cell_type": "markdown",
   "id": "3e55b6f2-3b6f-4426-ade0-075666c803e2",
   "metadata": {
    "tags": []
   },
   "source": [
    "# Concatinate "
   ]
  },
  {
   "cell_type": "markdown",
   "id": "8f85909e-3a4d-4b74-a348-9d2d16d28ba6",
   "metadata": {},
   "source": [
    "## New Data Preparations"
   ]
  },
  {
   "cell_type": "code",
   "execution_count": 9,
   "id": "49c24eb6-4d0e-4796-8160-228719b16931",
   "metadata": {},
   "outputs": [],
   "source": [
    "import numpy as np\n",
    "import os\n",
    "\n",
    "def concatenate_and_save_data(data_folder, output_folder):\n",
    "    train_data_paths = []\n",
    "    test_data_paths = []\n",
    "    train_labels = []\n",
    "    test_labels = []\n",
    "\n",
    "    for class_folder in os.listdir(data_folder):\n",
    "        class_folder_path = os.path.join(data_folder, class_folder)\n",
    "        if os.path.isdir(class_folder_path):\n",
    "            train_folder_path = os.path.join(class_folder_path, 'Train')\n",
    "            test_folder_path = os.path.join(class_folder_path, 'Test')\n",
    "\n",
    "            # Collect train data paths\n",
    "            train_data_paths.extend([os.path.join(train_folder_path, file) for file in os.listdir(train_folder_path) if file.endswith('.npy')])\n",
    "\n",
    "            # Collect test data paths\n",
    "            test_data_paths.extend([os.path.join(test_folder_path, file) for file in os.listdir(test_folder_path) if file.endswith('.npy')])\n",
    "\n",
    "            # Generate and collect train labels\n",
    "            train_labels.extend([1 if 'Amino_acid' in class_folder else 0] * len(os.listdir(train_folder_path)))\n",
    "\n",
    "            # Generate and collect test labels\n",
    "            test_labels.extend([1 if 'Amino_acid' in class_folder else 0] * len(os.listdir(test_folder_path)))\n",
    "\n",
    "    # Load and concatenate training data\n",
    "    x_train_list = [np.load(path) for path in train_data_paths]\n",
    "    x_train = np.concatenate(x_train_list, axis=0)\n",
    "\n",
    "    # Save concatenated training data\n",
    "    np.save(os.path.join(output_folder, 'Train_data.npy'), x_train)\n",
    "\n",
    "    # Save concatenated training labels\n",
    "    np.save(os.path.join(output_folder, 'Train_labels.npy'), np.array(train_labels))\n",
    "\n",
    "    # Load and concatenate testing data\n",
    "    x_test_list = [np.load(path) for path in test_data_paths]\n",
    "    x_test = np.concatenate(x_test_list, axis=0)\n",
    "\n",
    "    # Save concatenated testing data\n",
    "    np.save(os.path.join(output_folder, 'Test_data.npy'), x_test)\n",
    "\n",
    "    # Save concatenated testing labels\n",
    "    np.save(os.path.join(output_folder, 'Test_labels.npy'), np.array(test_labels))\n",
    "\n",
    "if __name__ == \"__main__\":\n",
    "    data_folder = 'D:/Malik/SATs/Amino acid vs others/get_feature/binary_d20_L1200'\n",
    "    output_folder = 'D:/Malik/SATs/Amino acid vs others/Binary'\n",
    "\n",
    "    concatenate_and_save_data(data_folder, output_folder)"
   ]
  },
  {
   "cell_type": "markdown",
   "id": "22660cea-d004-4ac5-81aa-4e891721e271",
   "metadata": {},
   "source": [
    "## Concatinat SLC"
   ]
  },
  {
   "cell_type": "code",
   "execution_count": 1,
   "id": "604cd096-f1f1-445b-973e-9a54c976ba13",
   "metadata": {},
   "outputs": [],
   "source": [
    "import numpy as np\n",
    "import os\n",
    "\n",
    "def concatenate_and_save_independent_data(data_folder, output_folder):\n",
    "    independent_data_paths = []\n",
    "    independent_labels = []\n",
    "\n",
    "    for class_folder in os.listdir(data_folder):\n",
    "        class_folder_path = os.path.join(data_folder, class_folder)\n",
    "        if os.path.isdir(class_folder_path):\n",
    "            # Collect independent data paths\n",
    "            independent_data_paths.extend([os.path.join(class_folder_path, file) for file in os.listdir(class_folder_path) if file.endswith('.npy')])\n",
    "\n",
    "            # Generate and collect independent labels\n",
    "            independent_labels.extend([1 if 'Amino_acid' in class_folder else 0] * len(os.listdir(class_folder_path)))\n",
    "\n",
    "    # Load and concatenate independent data\n",
    "    independent_data_list = [np.load(path) for path in independent_data_paths]\n",
    "    independent_data = np.concatenate(independent_data_list, axis=0)\n",
    "\n",
    "    # Save concatenated independent data\n",
    "    np.save(os.path.join(output_folder, 'N_SLC_data.npy'), independent_data)\n",
    "\n",
    "    # Save concatenated independent labels\n",
    "    np.save(os.path.join(output_folder, 'N_SLC_labels.npy'), np.array(independent_labels))\n",
    "\n",
    "if __name__ == \"__main__\":\n",
    "    data_folder = 'D:/Malik/SATs/Amino acid vs others/get_feature/pt_d1024_L1200/SLC'\n",
    "    output_folder = 'D:/Malik/SATs/Amino acid vs others/Prottrans'\n",
    "\n",
    "    concatenate_and_save_independent_data(data_folder, output_folder)\n"
   ]
  },
  {
   "cell_type": "code",
   "execution_count": null,
   "id": "e7fe3dc1-11e6-4dc3-8f6e-20cc26f03420",
   "metadata": {},
   "outputs": [],
   "source": []
  }
 ],
 "metadata": {
  "kernelspec": {
   "display_name": "Python 3 (ipykernel)",
   "language": "python",
   "name": "python3"
  },
  "language_info": {
   "codemirror_mode": {
    "name": "ipython",
    "version": 3
   },
   "file_extension": ".py",
   "mimetype": "text/x-python",
   "name": "python",
   "nbconvert_exporter": "python",
   "pygments_lexer": "ipython3",
   "version": "3.10.2"
  }
 },
 "nbformat": 4,
 "nbformat_minor": 5
}
